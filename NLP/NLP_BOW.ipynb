{
 "cells": [
  {
   "cell_type": "code",
   "execution_count": 1,
   "metadata": {},
   "outputs": [],
   "source": [
    "import numpy as np"
   ]
  },
  {
   "cell_type": "code",
   "execution_count": 2,
   "metadata": {},
   "outputs": [],
   "source": [
    "corpus = [\"this pasta is very tasty and affordable\",\n",
    "          \"this pasta is not tasty and is affordable\",\n",
    "          \"this pasta is delicious and cheap\",\n",
    "         \"pasta is tasty and pasta tastes good\"]\n"
   ]
  },
  {
   "cell_type": "code",
   "execution_count": 3,
   "metadata": {},
   "outputs": [
    {
     "name": "stdout",
     "output_type": "stream",
     "text": [
      "{0: 'affordable', 1: 'and', 2: 'cheap', 3: 'delicious', 4: 'good', 5: 'is', 6: 'not', 7: 'pasta', 8: 'tastes', 9: 'tasty', 10: 'this', 11: 'very'}\n"
     ]
    }
   ],
   "source": [
    "def create_dict(corpus):\n",
    "    unique_words = set()\n",
    "    for row in corpus:\n",
    "        for word in row.split(\" \"):\n",
    "            unique_words.add(word)\n",
    "    unique_words = sorted(list(unique_words))\n",
    "    vocab = {i:j for i,j in enumerate(unique_words)}\n",
    "    return vocab\n",
    "    \n",
    "vocab = create_dict(corpus)\n",
    "print(vocab)"
   ]
  },
  {
   "cell_type": "code",
   "execution_count": 4,
   "metadata": {},
   "outputs": [
    {
     "name": "stdout",
     "output_type": "stream",
     "text": [
      "[['this', 'pasta', 'is', 'very', 'tasty', 'and', 'affordable'], ['this', 'pasta', 'is', 'not', 'tasty', 'and', 'is', 'affordable'], ['this', 'pasta', 'is', 'delicious', 'and', 'cheap'], ['pasta', 'is', 'tasty', 'and', 'pasta', 'tastes', 'good']]\n"
     ]
    }
   ],
   "source": [
    "def doc_to_list(corpus):\n",
    "    corpus_list=[]\n",
    "    for row in corpus:\n",
    "        temp = []\n",
    "        for word in row.split(\" \"):\n",
    "            temp.append(word)\n",
    "        corpus_list.append(temp)\n",
    "    return corpus_list\n",
    "corpus_list = doc_to_list(corpus)\n",
    "print(corpus_list)"
   ]
  },
  {
   "cell_type": "code",
   "execution_count": 5,
   "metadata": {},
   "outputs": [
    {
     "name": "stdout",
     "output_type": "stream",
     "text": [
      "[[1, 1, 0, 0, 0, 1, 0, 1, 0, 1, 1, 1], [1, 1, 0, 0, 0, 2, 1, 1, 0, 1, 1, 0], [0, 1, 1, 1, 0, 1, 0, 1, 0, 0, 1, 0], [0, 1, 0, 0, 1, 1, 0, 2, 1, 1, 0, 0]]\n"
     ]
    }
   ],
   "source": [
    "def bow(corpus_list,vocab):\n",
    "    bow=[]\n",
    "    for row in corpus_list:\n",
    "        temp=[0]*len(vocab)\n",
    "        for word in row:\n",
    "            for n in vocab:\n",
    "                if vocab[n] == word:\n",
    "                    temp[n]+=1\n",
    "        bow.append(temp)\n",
    "    return bow\n",
    "bow =  bow(corpus_list,vocab)\n",
    "print(bow)\n",
    "    "
   ]
  },
  {
   "cell_type": "code",
   "execution_count": 6,
   "metadata": {},
   "outputs": [
    {
     "name": "stdout",
     "output_type": "stream",
     "text": [
      "[[1, 1, 0, 0, 0, 1, 0, 1, 0, 1, 1, 1], [1, 1, 0, 0, 0, 1, 1, 1, 0, 1, 1, 0], [0, 1, 1, 1, 0, 1, 0, 1, 0, 0, 1, 0], [0, 1, 0, 0, 1, 1, 0, 1, 1, 1, 0, 0]]\n"
     ]
    }
   ],
   "source": [
    "def binary_bow(corpus_list,vocab):\n",
    "    corpus_binary_bow = []\n",
    "    for row in corpus_list:\n",
    "        temp = [0]*len(vocab)\n",
    "        for n in range(len(vocab)):\n",
    "            if vocab[n] in row:\n",
    "                temp[n] += 1\n",
    "        corpus_binary_bow.append(temp)\n",
    "    return corpus_binary_bow\n",
    "binary_bow = binary_bow(corpus_list,vocab)\n",
    "print(binary_bow) "
   ]
  },
  {
   "cell_type": "code",
   "execution_count": 7,
   "metadata": {},
   "outputs": [
    {
     "name": "stdout",
     "output_type": "stream",
     "text": [
      "1.7320508075688772\n"
     ]
    }
   ],
   "source": [
    "def calc_dist(v1,v2):\n",
    "    temp=[]\n",
    "    for i in range(len(v1)):\n",
    "        if v1[i]==v2[i]:\n",
    "            continue\n",
    "        else:\n",
    "            temp.append(float((v1[i]-v2[i])**2))\n",
    "    dist = np.sqrt(sum(temp))\n",
    "    return dist\n",
    "\n",
    "dist = calc_dist(bow[0],bow[1])\n",
    "print(dist)"
   ]
  },
  {
   "cell_type": "code",
   "execution_count": 8,
   "metadata": {},
   "outputs": [
    {
     "name": "stdout",
     "output_type": "stream",
     "text": [
      "[[0.         1.73205081 2.23606798 2.44948974]\n",
      " [1.73205081 0.         2.44948974 2.64575131]\n",
      " [2.23606798 2.44948974 0.         2.64575131]\n",
      " [2.44948974 2.64575131 2.64575131 0.        ]]\n"
     ]
    }
   ],
   "source": [
    "bow_dist = np.zeros(shape=(4,4), dtype=float)\n",
    "\n",
    "for i in range(len(bow_dist)):\n",
    "    for j in range(len(bow_dist[i])):\n",
    "        bow_dist[i][j] = calc_dist(bow[i],bow[j])\n",
    "print(bow_dist)"
   ]
  }
 ],
 "metadata": {
  "kernelspec": {
   "display_name": "Python 3",
   "language": "python",
   "name": "python3"
  },
  "language_info": {
   "codemirror_mode": {
    "name": "ipython",
    "version": 3
   },
   "file_extension": ".py",
   "mimetype": "text/x-python",
   "name": "python",
   "nbconvert_exporter": "python",
   "pygments_lexer": "ipython3",
   "version": "3.7.6"
  }
 },
 "nbformat": 4,
 "nbformat_minor": 4
}
